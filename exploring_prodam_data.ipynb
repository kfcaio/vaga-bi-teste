{
 "cells": [
  {
   "cell_type": "markdown",
   "metadata": {},
   "source": [
    "# Análise exploratória da folha de pagamento da Empresa de Tecnologia da Informação e Comunicação do Município de São Paulo - PRODAM\n",
    "\n",
    "## Base de dados referente a 01/2019\n",
    "\n",
    "A PRODAM/SP é uma empresa de economia mista vinculada à Prefeitura de São Paulo, que atua no desenvolvimento de soluções em tecnologia da informação e comunicação para a prefeitura, de modo a maximizar a aplicação e a gestão dos recursos em setores como educação, saúde, planejamento e finanças. Desenvolve sistemas para a automação da gestão pública, geoprocessamento, aplicações para as áreas de educação, saúde, esporte e cultura, entre outras.\n",
    "\n",
    "A análise a seguir visa produzir informações relevantes a partir dos dados provenientes da folha de pagamento da PRODAM/SP no mês de janeiro de 2019. Para tanto, a análise será segmentada em seções com questionamentos relevantes para melhor entendimento da estrutura deste orgão.\n",
    "\n",
    "A base de dados utilizada foi obtida através do programa de Dados Abertos da Prefeitura de São Paulo, disponível neste [link](http://dados.prefeitura.sp.gov.br/dataset/folha-de-pagamento-prodam).\n",
    "\n",
    "Caio Ignatz Martins\n",
    "\n",
    "São Paulo, 15 de abril de 2019"
   ]
  },
  {
   "cell_type": "markdown",
   "metadata": {},
   "source": [
    "## Imports iniciais"
   ]
  },
  {
   "cell_type": "code",
   "execution_count": 253,
   "metadata": {
    "slideshow": {
     "slide_type": "skip"
    }
   },
   "outputs": [],
   "source": [
    "import pandas as pd\n",
    "import matplotlib.pyplot as plt\n",
    "import seaborn as sns\n",
    "import numpy as np\n",
    "import datetime\n",
    "from matplotlib.dates import date2num\n",
    "\n",
    "import squarify"
   ]
  },
  {
   "cell_type": "markdown",
   "metadata": {},
   "source": [
    "## Imports do R"
   ]
  },
  {
   "cell_type": "code",
   "execution_count": 26,
   "metadata": {},
   "outputs": [],
   "source": [
    "#Utilização da biblioteca genderBR para previsão de genêro a partir do primeiro nome\n",
    "#Disponível em https://fmeireles.com/blog/rstats/genderbr-predizer-sexo/\n",
    "from rpy2.robjects.packages import importr\n",
    "gnd = importr('genderBR')"
   ]
  },
  {
   "cell_type": "markdown",
   "metadata": {},
   "source": [
    "## Leitura do arquivo"
   ]
  },
  {
   "cell_type": "code",
   "execution_count": 62,
   "metadata": {
    "slideshow": {
     "slide_type": "skip"
    }
   },
   "outputs": [],
   "source": [
    "#alterar caminho do arquivo, criar uma pasta única para notebook e arquivo\n",
    "df = pd.read_excel('Downloads/folhaprodam2019.xlsx')"
   ]
  },
  {
   "cell_type": "markdown",
   "metadata": {},
   "source": [
    "## 1. Introdução\n",
    "\n",
    "Demonstração do resumo dos dados mais relevantes, visando motivar a exploração posterior"
   ]
  },
  {
   "cell_type": "code",
   "execution_count": 4,
   "metadata": {
    "slideshow": {
     "slide_type": "slide"
    }
   },
   "outputs": [
    {
     "data": {
      "text/html": [
       "<div>\n",
       "<style scoped>\n",
       "    .dataframe tbody tr th:only-of-type {\n",
       "        vertical-align: middle;\n",
       "    }\n",
       "\n",
       "    .dataframe tbody tr th {\n",
       "        vertical-align: top;\n",
       "    }\n",
       "\n",
       "    .dataframe thead th {\n",
       "        text-align: right;\n",
       "    }\n",
       "</style>\n",
       "<table border=\"1\" class=\"dataframe\">\n",
       "  <thead>\n",
       "    <tr style=\"text-align: right;\">\n",
       "      <th></th>\n",
       "      <th>EMPRESA</th>\n",
       "      <th>MES</th>\n",
       "      <th>ANO</th>\n",
       "      <th>NOME</th>\n",
       "      <th>CARGO</th>\n",
       "      <th>LOTACAO</th>\n",
       "      <th>ADMISSAO</th>\n",
       "      <th>NASCIMENTO</th>\n",
       "      <th>VENCIMENTOS</th>\n",
       "      <th>ENCARGOS</th>\n",
       "      <th>BENEFÍCIOS</th>\n",
       "      <th>OUTRAS</th>\n",
       "      <th>VÍNCULO</th>\n",
       "    </tr>\n",
       "  </thead>\n",
       "  <tbody>\n",
       "    <tr>\n",
       "      <th>0</th>\n",
       "      <td>PRODAM</td>\n",
       "      <td>Janeiro</td>\n",
       "      <td>2019</td>\n",
       "      <td>JEFERSON GUILHERME DE SOUZA</td>\n",
       "      <td>ANALISTA DE TIC</td>\n",
       "      <td>GDU-NMI-NÚCLEO MOBILIDADE E SERVIÇOS - I</td>\n",
       "      <td>1977-03-23</td>\n",
       "      <td>1962</td>\n",
       "      <td>20353.85</td>\n",
       "      <td>3067.33</td>\n",
       "      <td>5908.50</td>\n",
       "      <td>0</td>\n",
       "      <td>CLT: contrato por tempo indeterminado</td>\n",
       "    </tr>\n",
       "    <tr>\n",
       "      <th>1</th>\n",
       "      <td>PRODAM</td>\n",
       "      <td>Janeiro</td>\n",
       "      <td>2019</td>\n",
       "      <td>JOSE MARIA HAENNI INFANTE</td>\n",
       "      <td>ANALISTA DE TIC</td>\n",
       "      <td>GDM-NAF NUCLEO DE ARQ.FERRAMENTAS E CONF</td>\n",
       "      <td>2000-08-01</td>\n",
       "      <td>1961</td>\n",
       "      <td>13823.63</td>\n",
       "      <td>2083.22</td>\n",
       "      <td>2692.43</td>\n",
       "      <td>0</td>\n",
       "      <td>CLT: contrato por tempo indeterminado</td>\n",
       "    </tr>\n",
       "    <tr>\n",
       "      <th>2</th>\n",
       "      <td>PRODAM</td>\n",
       "      <td>Janeiro</td>\n",
       "      <td>2019</td>\n",
       "      <td>ADRIANA FERRAZ</td>\n",
       "      <td>ANALISTA DE TIC</td>\n",
       "      <td>GIO-NC - NÚCLEO DE CONTRATOS</td>\n",
       "      <td>2013-10-23</td>\n",
       "      <td>1979</td>\n",
       "      <td>3772.52</td>\n",
       "      <td>568.52</td>\n",
       "      <td>1596.78</td>\n",
       "      <td>0</td>\n",
       "      <td>CLT: contrato por tempo indeterminado</td>\n",
       "    </tr>\n",
       "    <tr>\n",
       "      <th>3</th>\n",
       "      <td>PRODAM</td>\n",
       "      <td>Janeiro</td>\n",
       "      <td>2019</td>\n",
       "      <td>ADRIANA NOBUCO URIU MATSUMURA</td>\n",
       "      <td>ANALISTA DE TIC</td>\n",
       "      <td>GDU-NMS NÚCLEO MOBIL.SERVIÇOS – SISTEMAS</td>\n",
       "      <td>2018-08-01</td>\n",
       "      <td>1976</td>\n",
       "      <td>8429.12</td>\n",
       "      <td>1270.27</td>\n",
       "      <td>2869.49</td>\n",
       "      <td>0</td>\n",
       "      <td>CLT: contrato por tempo indeterminado</td>\n",
       "    </tr>\n",
       "    <tr>\n",
       "      <th>4</th>\n",
       "      <td>PRODAM</td>\n",
       "      <td>Janeiro</td>\n",
       "      <td>2019</td>\n",
       "      <td>ADLER ZELLIS</td>\n",
       "      <td>ANALISTA DE TIC</td>\n",
       "      <td>GDF/NDF-NUCLEO DECLAR FISCAIS MOBILIARI</td>\n",
       "      <td>2013-09-16</td>\n",
       "      <td>1979</td>\n",
       "      <td>6894.42</td>\n",
       "      <td>1038.99</td>\n",
       "      <td>3139.72</td>\n",
       "      <td>0</td>\n",
       "      <td>CLT: contrato por tempo indeterminado</td>\n",
       "    </tr>\n",
       "  </tbody>\n",
       "</table>\n",
       "</div>"
      ],
      "text/plain": [
       "  EMPRESA      MES   ANO                           NOME            CARGO  \\\n",
       "0  PRODAM  Janeiro  2019    JEFERSON GUILHERME DE SOUZA  ANALISTA DE TIC   \n",
       "1  PRODAM  Janeiro  2019      JOSE MARIA HAENNI INFANTE  ANALISTA DE TIC   \n",
       "2  PRODAM  Janeiro  2019                 ADRIANA FERRAZ  ANALISTA DE TIC   \n",
       "3  PRODAM  Janeiro  2019  ADRIANA NOBUCO URIU MATSUMURA  ANALISTA DE TIC   \n",
       "4  PRODAM  Janeiro  2019                   ADLER ZELLIS  ANALISTA DE TIC   \n",
       "\n",
       "                                    LOTACAO   ADMISSAO  NASCIMENTO  \\\n",
       "0  GDU-NMI-NÚCLEO MOBILIDADE E SERVIÇOS - I 1977-03-23        1962   \n",
       "1  GDM-NAF NUCLEO DE ARQ.FERRAMENTAS E CONF 2000-08-01        1961   \n",
       "2              GIO-NC - NÚCLEO DE CONTRATOS 2013-10-23        1979   \n",
       "3  GDU-NMS NÚCLEO MOBIL.SERVIÇOS – SISTEMAS 2018-08-01        1976   \n",
       "4   GDF/NDF-NUCLEO DECLAR FISCAIS MOBILIARI 2013-09-16        1979   \n",
       "\n",
       "   VENCIMENTOS  ENCARGOS  BENEFÍCIOS  OUTRAS  \\\n",
       "0     20353.85   3067.33     5908.50       0   \n",
       "1     13823.63   2083.22     2692.43       0   \n",
       "2      3772.52    568.52     1596.78       0   \n",
       "3      8429.12   1270.27     2869.49       0   \n",
       "4      6894.42   1038.99     3139.72       0   \n",
       "\n",
       "                                 VÍNCULO  \n",
       "0  CLT: contrato por tempo indeterminado  \n",
       "1  CLT: contrato por tempo indeterminado  \n",
       "2  CLT: contrato por tempo indeterminado  \n",
       "3  CLT: contrato por tempo indeterminado  \n",
       "4  CLT: contrato por tempo indeterminado  "
      ]
     },
     "execution_count": 4,
     "metadata": {},
     "output_type": "execute_result"
    }
   ],
   "source": [
    "df.head()"
   ]
  },
  {
   "cell_type": "code",
   "execution_count": 5,
   "metadata": {
    "slideshow": {
     "slide_type": "skip"
    }
   },
   "outputs": [
    {
     "name": "stdout",
     "output_type": "stream",
     "text": [
      "Número de funcionários ativos 01/2019: 976\n"
     ]
    }
   ],
   "source": [
    "print('Número de funcionários ativos 01/2019: {}'.format(len(df) - len(df.loc[df['VÍNCULO'] == 'Desligado'])))"
   ]
  },
  {
   "cell_type": "markdown",
   "metadata": {},
   "source": [
    "### 1.1 Cargo mais comum"
   ]
  },
  {
   "cell_type": "code",
   "execution_count": 6,
   "metadata": {},
   "outputs": [
    {
     "data": {
      "text/plain": [
       "count                 990\n",
       "unique                 51\n",
       "top       ANALISTA DE TIC\n",
       "freq                  589\n",
       "Name: CARGO, dtype: object"
      ]
     },
     "execution_count": 6,
     "metadata": {},
     "output_type": "execute_result"
    }
   ],
   "source": [
    "df['CARGO'].describe()"
   ]
  },
  {
   "cell_type": "markdown",
   "metadata": {},
   "source": [
    "#### Analista de TIC\n",
    "\n",
    "De acordo com o site [PCI Concursos](https://www.pciconcursos.com.br/concurso/prodam-empresa-de-tec-da-informacao-e-comunicacao-sp-777-vagas) esta carreira é dividida em, pelo menos, 40 especializações e estas se distribuem em três faixas de senioridade. As especializações se diferenciam por aréa ou tecnologia. Já os diferentes níveis de senioridade exigem experiência prévia comprovada de 1 a 5 anos. Para as vacâncias relacionadas a essa posição, exige-se formação em Análise de Sistemas, Matemática, Ciência da Computação, Administração de Empresas ou Pós-graduação nas áreas especificadas. É possível observar que, no edital divulgado, os salários iniciais de Analista de TIC variam de 2.427,00 a 4.959,00"
   ]
  },
  {
   "cell_type": "markdown",
   "metadata": {},
   "source": [
    "### 1.2 Vencimentos"
   ]
  },
  {
   "cell_type": "code",
   "execution_count": 7,
   "metadata": {},
   "outputs": [
    {
     "data": {
      "text/plain": [
       "count      990.0\n",
       "mean     11773.0\n",
       "std       7969.0\n",
       "min          0.0\n",
       "25%       6223.0\n",
       "50%      10357.0\n",
       "75%      15929.0\n",
       "max      43462.0\n",
       "Name: VENCIMENTOS, dtype: float64"
      ]
     },
     "execution_count": 7,
     "metadata": {},
     "output_type": "execute_result"
    }
   ],
   "source": [
    "df['VENCIMENTOS'].describe().round()"
   ]
  },
  {
   "cell_type": "markdown",
   "metadata": {},
   "source": [
    "### Desvio padrão dos vencimentos\n",
    "\n",
    "O valor da variabilidade da amostra de vencimentos, R$ 7969,00, é indício de especialização em cargos, conforme atestado na seção anterior, e, também, de planos de progressão de carreira."
   ]
  },
  {
   "cell_type": "markdown",
   "metadata": {},
   "source": [
    "### 1.3 Idade"
   ]
  },
  {
   "cell_type": "code",
   "execution_count": 8,
   "metadata": {},
   "outputs": [
    {
     "data": {
      "text/plain": [
       "count     990.0\n",
       "mean     1971.0\n",
       "std        13.0\n",
       "min      1936.0\n",
       "25%      1961.0\n",
       "50%      1970.0\n",
       "75%      1981.0\n",
       "max      2000.0\n",
       "Name: NASCIMENTO, dtype: float64"
      ]
     },
     "execution_count": 8,
     "metadata": {},
     "output_type": "execute_result"
    }
   ],
   "source": [
    "df['NASCIMENTO'].describe().round()"
   ]
  },
  {
   "cell_type": "markdown",
   "metadata": {},
   "source": [
    "### Funcionário médio tem 48 anos de idade\n",
    "\n",
    "Observa-se que a PRODAM conserva colaboradores de variadas faixas etárias em seu quadro, sendo que seu funcionário ativo mais longevo tem 83 anos, enquanto que os mais novos partem dos 18 anos. Ademais, de acordo com [matéria](https://www1.folha.uol.com.br/cotidiano/2018/07/com-populacao-cada-vez-mais-velha-brasil-atinge-208-milhoes-de-pessoas.shtml) da Folha de São Paulo, a média de idade da população brasileira é 32,6 anos.\n",
    "\n"
   ]
  },
  {
   "cell_type": "markdown",
   "metadata": {},
   "source": [
    "## 2. Como se dá a divisão dos funcionários nas lotações da PRODAM?"
   ]
  },
  {
   "cell_type": "code",
   "execution_count": 9,
   "metadata": {
    "slideshow": {
     "slide_type": "slide"
    }
   },
   "outputs": [],
   "source": [
    "#Análise da quantidade de funcionários por lotação\n",
    "#Há 128 possibilidades de lotação df['LOTACAO'].unique()\n",
    "funcionarios_lot = )\n",
    "funcionarios_lot.columns = ['Quantidade']\n",
    "funcionarios_lot.index.names = ['Lotacao']\n",
    "#Lotações com maior quantidade de funcionários\n",
    "top_func = funcionarios_lot.head(10)"
   ]
  },
  {
   "cell_type": "code",
   "execution_count": 10,
   "metadata": {},
   "outputs": [
    {
     "data": {
      "image/png": "[encoded data removed]",
      "text/plain": [
       "<Figure size 432x288 with 1 Axes>"
      ]
     },
     "metadata": {},
     "output_type": "display_data"
    }
   ],
   "source": [
    "bars = top_func.index\n",
    "y_pos = np.arange(len(bars))\n",
    "plt.barh(y_pos, top_func['Quantidade'])\n",
    "plt.yticks(y_pos, bars)\n",
    "plt.title('Top 10 lotações com mais funcionários', fontsize=15)\n",
    "plt.show()"
   ]
  },
  {
   "cell_type": "code",
   "execution_count": 11,
   "metadata": {
    "scrolled": false,
    "slideshow": {
     "slide_type": "slide"
    }
   },
   "outputs": [
    {
     "data": {
      "image/png": "[encoded data removed]",
      "text/plain": [
       "<Figure size 432x288 with 1 Axes>"
      ]
     },
     "metadata": {},
     "output_type": "display_data"
    }
   ],
   "source": [
    "func_perc = funcionarios_lot.divide(funcionarios_lot.sum(axis=0), axis=1).multiply(100)\n",
    "squarify.plot(sizes=func_perc['Quantidade'], alpha=.85)\n",
    "plt.axis('off')\n",
    "plt.title('Concentração de funcionários por lotação', fontsize=15)\n",
    "plt.show()"
   ]
  },
  {
   "cell_type": "code",
   "execution_count": 64,
   "metadata": {},
   "outputs": [],
   "source": [
    "df['GENERO'] = df['NOME'].apply(lambda nome: gnd.get_gender(nome)[0])"
   ]
  },
  {
   "cell_type": "code",
   "execution_count": 121,
   "metadata": {},
   "outputs": [],
   "source": [
    "div_gen = pd.DataFrame(df['GENERO'].value_counts())\n",
    "div_gen.columns = ['Quantidade']\n",
    "div_gen.index = ['Masculino', 'Feminino', 'Não identificado']"
   ]
  },
  {
   "cell_type": "code",
   "execution_count": 123,
   "metadata": {},
   "outputs": [
    {
     "data": {
      "image/png": "[encoded data removed]",
      "text/plain": [
       "<Figure size 432x288 with 1 Axes>"
      ]
     },
     "metadata": {},
     "output_type": "display_data"
    }
   ],
   "source": [
    "fig1, ax1 = plt.subplots()\n",
    "ax1.pie(div_gen['Quantidade'], autopct='%1.1f%%', shadow=True, startangle=90)\n",
    "ax1.axis('equal')\n",
    "plt.title('Divisão por gênero na PRODAM', fontsize=15)\n",
    "plt.legend(div_gen.index, loc=4)\n",
    "plt.show()"
   ]
  },
  {
   "cell_type": "markdown",
   "metadata": {},
   "source": [
    "## 3. Como se caracterizam as relações etárias na PRODAM? "
   ]
  },
  {
   "cell_type": "code",
   "execution_count": 179,
   "metadata": {},
   "outputs": [],
   "source": [
    "pd.options.mode.chained_assignment = None \n",
    "top_cargos = pd.DataFrame(df['CARGO'].value_counts()).head(5).index\n",
    "df1 = df[df['CARGO'].isin(top_cargos)]\n",
    "cargo_idade = df1[['CARGO', 'NASCIMENTO']]\n",
    "cargo_idade['NASCIMENTO'] = cargo_idade['NASCIMENTO'].apply(lambda x: 2019 - x)"
   ]
  },
  {
   "cell_type": "code",
   "execution_count": 176,
   "metadata": {},
   "outputs": [
    {
     "data": {
      "image/png": "[encoded data removed]",
      "text/plain": [
       "<Figure size 432x288 with 1 Axes>"
      ]
     },
     "metadata": {},
     "output_type": "display_data"
    }
   ],
   "source": [
    "fig1, ax1 = plt.subplots()\n",
    "ax1.set_title('Distribuição de idade nos cinco cargos mais concorridos', fontsize=15)\n",
    "ax1.boxplot([cargo_idade.loc[cargo_idade['CARGO'] == cargo]['NASCIMENTO'] for cargo in top_cargos],\n",
    "           vert=False, whis=0.75)\n",
    "plt.yticks([1, 2, 3, 4, 5], [cargo for cargo in top_cargos])\n",
    "plt.show()"
   ]
  },
  {
   "cell_type": "markdown",
   "metadata": {},
   "source": [
    "## 4 . Qual é o perfil de colaborador com remuneração mais elevada?"
   ]
  },
  {
   "cell_type": "code",
   "execution_count": 301,
   "metadata": {},
   "outputs": [],
   "source": [
    "venc = df[['CARGO', 'VENCIMENTOS', 'VÍNCULO', 'GENERO']]"
   ]
  },
  {
   "cell_type": "code",
   "execution_count": 306,
   "metadata": {},
   "outputs": [
    {
     "data": {
      "image/png": "[encoded data removed]",
      "text/plain": [
       "<Figure size 432x288 with 1 Axes>"
      ]
     },
     "metadata": {},
     "output_type": "display_data"
    }
   ],
   "source": [
    "values = [int(venc.loc[venc['VÍNCULO'] == vinc].describe().round().iloc[[1]]['VENCIMENTOS']) for vinc in venc['VÍNCULO'].unique()]\n",
    "labels = [label for label in venc['VÍNCULO'].unique()]\n",
    "\n",
    "bars = labels\n",
    "y_pos = np.arange(len(bars))\n",
    "plt.barh(y_pos, values, color='orange')\n",
    "plt.yticks(y_pos, bars)\n",
    "plt.title('Análise de vencimentos por vínculo', fontsize=15)\n",
    "plt.show()"
   ]
  },
  {
   "cell_type": "code",
   "execution_count": 307,
   "metadata": {},
   "outputs": [
    {
     "data": {
      "image/png": "[encoded data removed]",
      "text/plain": [
       "<Figure size 432x288 with 1 Axes>"
      ]
     },
     "metadata": {},
     "output_type": "display_data"
    }
   ],
   "source": [
    "fig1, ax1 = plt.subplots()\n",
    "ax1.set_title('Análise de vencimentos por gênero', fontsize=15)\n",
    "ax1.boxplot([venc.loc[venc['GENERO'] == gen]['VENCIMENTOS'] for gen in venc['GENERO'].unique()],\n",
    "           vert=False)\n",
    "plt.yticks([1, 2, 3], [gen for gen in venc['GENERO'].unique()])\n",
    "plt.show()"
   ]
  },
  {
   "cell_type": "code",
   "execution_count": 348,
   "metadata": {},
   "outputs": [],
   "source": [
    "wage_equality = []\n",
    "for cargo in df['CARGO'].unique():\n",
    "    if float(venc.loc[(venc['CARGO'] == cargo) & \n",
    "                      (venc['GENERO'] == 'Female')].describe().round().iloc[[1]]['VENCIMENTOS']) >= float(venc.loc[(venc['CARGO'] == cargo) & (venc['GENERO'] == 'Male')].describe().round().iloc[[1]]['VENCIMENTOS']):\n",
    "        wage_equality.append(cargo)"
   ]
  },
  {
   "cell_type": "code",
   "execution_count": 346,
   "metadata": {},
   "outputs": [
    {
     "name": "stdout",
     "output_type": "stream",
     "text": [
      "Cargos em que as mulheres ganham mais ou o mesmo do que os homens: ['TECNICO', 'ADVOGADO', 'COORDENADOR DE NÚCLEO IV', 'ASSESSOR ESPECIAL III', 'COORDENADOR DE NÚCLEO III', 'ASSESSOR - I', 'GERENTE DEPARTAMENTO I', 'COORDENADOR DE PROCESSOS VII', 'COORDENADOR DE PROCESSOS VIII', 'GERENTE DEPARTAMENTO III', 'COORDENADOR DE PROCESSOS X', 'ASSESSOR DE DIRETORIA IX', 'ASSESSOR DIRETORIA X', 'GERENTE DEPARTAMENTO V']\n"
     ]
    }
   ],
   "source": [
    "print('Cargos em que as mulheres ganham mais ou o mesmo do que os homens: {}'.format(wage_equality))"
   ]
  }
 ],
 "metadata": {
  "kernelspec": {
   "display_name": "Python 3",
   "language": "python",
   "name": "python3"
  },
  "language_info": {
   "codemirror_mode": {
    "name": "ipython",
    "version": 3
   },
   "file_extension": ".py",
   "mimetype": "text/x-python",
   "name": "python",
   "nbconvert_exporter": "python",
   "pygments_lexer": "ipython3",
   "version": "3.6.5"
  }
 },
 "nbformat": 4,
 "nbformat_minor": 2
}
